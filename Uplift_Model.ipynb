{
  "nbformat": 4,
  "nbformat_minor": 0,
  "metadata": {
    "colab": {
      "provenance": [],
      "include_colab_link": true
    },
    "kernelspec": {
      "name": "python3",
      "display_name": "Python 3"
    },
    "language_info": {
      "name": "python"
    }
  },
  "cells": [
    {
      "cell_type": "markdown",
      "metadata": {
        "id": "view-in-github",
        "colab_type": "text"
      },
      "source": [
        "<a href=\"https://colab.research.google.com/github/SuhaniShah008/Uplift-Model/blob/main/Uplift_Model.ipynb\" target=\"_parent\"><img src=\"https://colab.research.google.com/assets/colab-badge.svg\" alt=\"Open In Colab\"/></a>"
      ]
    },
    {
      "cell_type": "markdown",
      "source": [
        "###Uplift Modeling"
      ],
      "metadata": {
        "id": "LBtYVlHiKKwI"
      }
    },
    {
      "cell_type": "markdown",
      "source": [
        "Step-by-Step Approach\n",
        "1. Load and Explore the Data\n",
        "- The dataset contains customer demographics, past purchase behavior, and a treatment column (1 if the customer received the campaign, 0 otherwise).\n",
        "- The target variable response indicates whether the customer made a purchase.\n",
        "\n",
        "\n",
        "2. Feature Engineering & Preprocessing\n",
        "- Convert categorical variables into numerical format.\n",
        "- Scale or normalize numerical features if necessary.\n",
        "\n",
        "3. Train an Uplift Model\n",
        "- Createe a treatment group anmd a the control group\n",
        "- The uplift score is the difference in predicted probability between these two models.\n",
        "\n",
        "4. Evaluate Uplift Effectiveness\n",
        "- Measure performance using Qini curves, uplift at different deciles, or KL divergence."
      ],
      "metadata": {
        "id": "8cmQo6uuMcsj"
      }
    },
    {
      "cell_type": "markdown",
      "source": [
        "###Key Takeaways\n",
        "1. Why is this useful?\n",
        "\n",
        "The uplift model identifies customers who are positively influenced by marketing campaigns.\n",
        "Avoids wasting marketing resources on customers who would buy anyway or who react negatively.\n",
        "\n",
        "\n",
        "2. Extensions we can try\n",
        "\n",
        "Meta-Learners (T-Learner, S-Learner, X-Learner).\n",
        "Causal ML libraries like causalml or econml."
      ],
      "metadata": {
        "id": "eEZaDib_NQX7"
      }
    },
    {
      "cell_type": "code",
      "source": [
        "pip install datasets\n"
      ],
      "metadata": {
        "colab": {
          "base_uri": "https://localhost:8080/"
        },
        "collapsed": true,
        "id": "gk8ZtzGCRKG9",
        "outputId": "e8c14a5e-6e5f-4b5c-9878-ad23a44451a8"
      },
      "execution_count": null,
      "outputs": [
        {
          "output_type": "stream",
          "name": "stdout",
          "text": [
            "Requirement already satisfied: datasets in /usr/local/lib/python3.11/dist-packages (3.3.2)\n",
            "Requirement already satisfied: filelock in /usr/local/lib/python3.11/dist-packages (from datasets) (3.17.0)\n",
            "Requirement already satisfied: numpy>=1.17 in /usr/local/lib/python3.11/dist-packages (from datasets) (1.26.4)\n",
            "Requirement already satisfied: pyarrow>=15.0.0 in /usr/local/lib/python3.11/dist-packages (from datasets) (18.1.0)\n",
            "Requirement already satisfied: dill<0.3.9,>=0.3.0 in /usr/local/lib/python3.11/dist-packages (from datasets) (0.3.8)\n",
            "Requirement already satisfied: pandas in /usr/local/lib/python3.11/dist-packages (from datasets) (2.2.2)\n",
            "Requirement already satisfied: requests>=2.32.2 in /usr/local/lib/python3.11/dist-packages (from datasets) (2.32.3)\n",
            "Requirement already satisfied: tqdm>=4.66.3 in /usr/local/lib/python3.11/dist-packages (from datasets) (4.67.1)\n",
            "Requirement already satisfied: xxhash in /usr/local/lib/python3.11/dist-packages (from datasets) (3.5.0)\n",
            "Requirement already satisfied: multiprocess<0.70.17 in /usr/local/lib/python3.11/dist-packages (from datasets) (0.70.16)\n",
            "Requirement already satisfied: fsspec<=2024.12.0,>=2023.1.0 in /usr/local/lib/python3.11/dist-packages (from fsspec[http]<=2024.12.0,>=2023.1.0->datasets) (2024.10.0)\n",
            "Requirement already satisfied: aiohttp in /usr/local/lib/python3.11/dist-packages (from datasets) (3.11.13)\n",
            "Requirement already satisfied: huggingface-hub>=0.24.0 in /usr/local/lib/python3.11/dist-packages (from datasets) (0.28.1)\n",
            "Requirement already satisfied: packaging in /usr/local/lib/python3.11/dist-packages (from datasets) (24.2)\n",
            "Requirement already satisfied: pyyaml>=5.1 in /usr/local/lib/python3.11/dist-packages (from datasets) (6.0.2)\n",
            "Requirement already satisfied: aiohappyeyeballs>=2.3.0 in /usr/local/lib/python3.11/dist-packages (from aiohttp->datasets) (2.5.0)\n",
            "Requirement already satisfied: aiosignal>=1.1.2 in /usr/local/lib/python3.11/dist-packages (from aiohttp->datasets) (1.3.2)\n",
            "Requirement already satisfied: attrs>=17.3.0 in /usr/local/lib/python3.11/dist-packages (from aiohttp->datasets) (25.1.0)\n",
            "Requirement already satisfied: frozenlist>=1.1.1 in /usr/local/lib/python3.11/dist-packages (from aiohttp->datasets) (1.5.0)\n",
            "Requirement already satisfied: multidict<7.0,>=4.5 in /usr/local/lib/python3.11/dist-packages (from aiohttp->datasets) (6.1.0)\n",
            "Requirement already satisfied: propcache>=0.2.0 in /usr/local/lib/python3.11/dist-packages (from aiohttp->datasets) (0.3.0)\n",
            "Requirement already satisfied: yarl<2.0,>=1.17.0 in /usr/local/lib/python3.11/dist-packages (from aiohttp->datasets) (1.18.3)\n",
            "Requirement already satisfied: typing-extensions>=3.7.4.3 in /usr/local/lib/python3.11/dist-packages (from huggingface-hub>=0.24.0->datasets) (4.12.2)\n",
            "Requirement already satisfied: charset-normalizer<4,>=2 in /usr/local/lib/python3.11/dist-packages (from requests>=2.32.2->datasets) (3.4.1)\n",
            "Requirement already satisfied: idna<4,>=2.5 in /usr/local/lib/python3.11/dist-packages (from requests>=2.32.2->datasets) (3.10)\n",
            "Requirement already satisfied: urllib3<3,>=1.21.1 in /usr/local/lib/python3.11/dist-packages (from requests>=2.32.2->datasets) (2.3.0)\n",
            "Requirement already satisfied: certifi>=2017.4.17 in /usr/local/lib/python3.11/dist-packages (from requests>=2.32.2->datasets) (2025.1.31)\n",
            "Requirement already satisfied: python-dateutil>=2.8.2 in /usr/local/lib/python3.11/dist-packages (from pandas->datasets) (2.8.2)\n",
            "Requirement already satisfied: pytz>=2020.1 in /usr/local/lib/python3.11/dist-packages (from pandas->datasets) (2025.1)\n",
            "Requirement already satisfied: tzdata>=2022.7 in /usr/local/lib/python3.11/dist-packages (from pandas->datasets) (2025.1)\n",
            "Requirement already satisfied: six>=1.5 in /usr/local/lib/python3.11/dist-packages (from python-dateutil>=2.8.2->pandas->datasets) (1.17.0)\n"
          ]
        }
      ]
    },
    {
      "cell_type": "code",
      "source": [
        "pip install scikit-uplift\n"
      ],
      "metadata": {
        "collapsed": true,
        "colab": {
          "base_uri": "https://localhost:8080/"
        },
        "id": "P0hFg8sTTCck",
        "outputId": "522c5da4-7729-485e-c2b0-1484028b4694"
      },
      "execution_count": null,
      "outputs": [
        {
          "output_type": "stream",
          "name": "stdout",
          "text": [
            "Requirement already satisfied: scikit-uplift in /usr/local/lib/python3.11/dist-packages (0.5.1)\n",
            "Requirement already satisfied: scikit-learn>=0.21.0 in /usr/local/lib/python3.11/dist-packages (from scikit-uplift) (1.6.1)\n",
            "Requirement already satisfied: numpy>=1.16 in /usr/local/lib/python3.11/dist-packages (from scikit-uplift) (1.26.4)\n",
            "Requirement already satisfied: pandas in /usr/local/lib/python3.11/dist-packages (from scikit-uplift) (2.2.2)\n",
            "Requirement already satisfied: matplotlib in /usr/local/lib/python3.11/dist-packages (from scikit-uplift) (3.10.0)\n",
            "Requirement already satisfied: requests in /usr/local/lib/python3.11/dist-packages (from scikit-uplift) (2.32.3)\n",
            "Requirement already satisfied: tqdm in /usr/local/lib/python3.11/dist-packages (from scikit-uplift) (4.67.1)\n",
            "Requirement already satisfied: scipy>=1.6.0 in /usr/local/lib/python3.11/dist-packages (from scikit-learn>=0.21.0->scikit-uplift) (1.14.1)\n",
            "Requirement already satisfied: joblib>=1.2.0 in /usr/local/lib/python3.11/dist-packages (from scikit-learn>=0.21.0->scikit-uplift) (1.4.2)\n",
            "Requirement already satisfied: threadpoolctl>=3.1.0 in /usr/local/lib/python3.11/dist-packages (from scikit-learn>=0.21.0->scikit-uplift) (3.5.0)\n",
            "Requirement already satisfied: contourpy>=1.0.1 in /usr/local/lib/python3.11/dist-packages (from matplotlib->scikit-uplift) (1.3.1)\n",
            "Requirement already satisfied: cycler>=0.10 in /usr/local/lib/python3.11/dist-packages (from matplotlib->scikit-uplift) (0.12.1)\n",
            "Requirement already satisfied: fonttools>=4.22.0 in /usr/local/lib/python3.11/dist-packages (from matplotlib->scikit-uplift) (4.56.0)\n",
            "Requirement already satisfied: kiwisolver>=1.3.1 in /usr/local/lib/python3.11/dist-packages (from matplotlib->scikit-uplift) (1.4.8)\n",
            "Requirement already satisfied: packaging>=20.0 in /usr/local/lib/python3.11/dist-packages (from matplotlib->scikit-uplift) (24.2)\n",
            "Requirement already satisfied: pillow>=8 in /usr/local/lib/python3.11/dist-packages (from matplotlib->scikit-uplift) (11.1.0)\n",
            "Requirement already satisfied: pyparsing>=2.3.1 in /usr/local/lib/python3.11/dist-packages (from matplotlib->scikit-uplift) (3.2.1)\n",
            "Requirement already satisfied: python-dateutil>=2.7 in /usr/local/lib/python3.11/dist-packages (from matplotlib->scikit-uplift) (2.8.2)\n",
            "Requirement already satisfied: pytz>=2020.1 in /usr/local/lib/python3.11/dist-packages (from pandas->scikit-uplift) (2025.1)\n",
            "Requirement already satisfied: tzdata>=2022.7 in /usr/local/lib/python3.11/dist-packages (from pandas->scikit-uplift) (2025.1)\n",
            "Requirement already satisfied: charset-normalizer<4,>=2 in /usr/local/lib/python3.11/dist-packages (from requests->scikit-uplift) (3.4.1)\n",
            "Requirement already satisfied: idna<4,>=2.5 in /usr/local/lib/python3.11/dist-packages (from requests->scikit-uplift) (3.10)\n",
            "Requirement already satisfied: urllib3<3,>=1.21.1 in /usr/local/lib/python3.11/dist-packages (from requests->scikit-uplift) (2.3.0)\n",
            "Requirement already satisfied: certifi>=2017.4.17 in /usr/local/lib/python3.11/dist-packages (from requests->scikit-uplift) (2025.1.31)\n",
            "Requirement already satisfied: six>=1.5 in /usr/local/lib/python3.11/dist-packages (from python-dateutil>=2.7->matplotlib->scikit-uplift) (1.17.0)\n"
          ]
        }
      ]
    },
    {
      "cell_type": "code",
      "execution_count": null,
      "metadata": {
        "id": "SJans1YfKDk4",
        "colab": {
          "base_uri": "https://localhost:8080/"
        },
        "outputId": "1d70d619-5909-4427-db98-f2c316b2ec9c"
      },
      "outputs": [
        {
          "output_type": "stream",
          "name": "stdout",
          "text": [
            "          f0         f1        f2        f3         f4        f5        f6  \\\n",
            "0  12.616365  10.059654  8.976429  4.679882  10.280525  4.115453  0.294443   \n",
            "1  12.616365  10.059654  9.002689  4.679882  10.280525  4.115453  0.294443   \n",
            "2  12.616365  10.059654  8.964775  4.679882  10.280525  4.115453  0.294443   \n",
            "3  12.616365  10.059654  9.002801  4.679882  10.280525  4.115453  0.294443   \n",
            "4  12.616365  10.059654  9.037999  4.679882  10.280525  4.115453  0.294443   \n",
            "\n",
            "         f7        f8         f9       f10       f11  \n",
            "0  4.833815  3.955396  13.190056  5.300375 -0.168679  \n",
            "1  4.833815  3.955396  13.190056  5.300375 -0.168679  \n",
            "2  4.833815  3.955396  13.190056  5.300375 -0.168679  \n",
            "3  4.833815  3.955396  13.190056  5.300375 -0.168679  \n",
            "4  4.833815  3.955396  13.190056  5.300375 -0.168679  \n"
          ]
        }
      ],
      "source": [
        "'''\n",
        "The Criterio dataset is 297 MB while still in zip form, but the dataset is\n",
        "also hosted on Hugging Face, which makes convenient to load directly into\n",
        "Python using the datasets library. That what we want to do.'''\n",
        "\n",
        "from sklift.datasets import fetch_criteo\n",
        "\n",
        "# Fetch the dataset\n",
        "data, target, treatment = fetch_criteo(return_X_y_t=True)\n",
        "\n",
        "# Display the first few rows\n",
        "print(data.head())\n",
        "\n",
        "\n",
        "\n"
      ]
    },
    {
      "cell_type": "code",
      "source": [
        "df = data.copy()\n",
        "df['response'] = target\n",
        "df['treatment'] = treatment"
      ],
      "metadata": {
        "id": "9EddHx9CKB8o"
      },
      "execution_count": null,
      "outputs": []
    },
    {
      "cell_type": "code",
      "source": [
        "import numpy as np\n",
        "import pandas as pd\n",
        "from sklearn.model_selection import train_test_split\n",
        "from sklearn.ensemble import RandomForestClassifier\n",
        "from sklearn.metrics import roc_auc_score\n",
        "\n",
        "# Train/Test Split\n",
        "train, test = train_test_split(df, test_size=0.3, random_state=42)\n",
        "\n",
        "# Train separate models for treatment and control groups\n",
        "def train_group_model(df, treatment_value):\n",
        "    subset = df[df['treatment'] == treatment_value]\n",
        "    X = subset.drop(columns=['response', 'treatment'])\n",
        "    y = subset['response']\n",
        "    model = RandomForestClassifier(n_estimators=100, random_state=42)\n",
        "    model.fit(X, y)\n",
        "    return model\n",
        "\n",
        "model_treatment = train_group_model(train, treatment_value=1)\n",
        "model_control = train_group_model(train, treatment_value=0)\n",
        "\n",
        "# Predict uplift\n",
        "X_test = test.drop(columns=['response', 'treatment'])\n",
        "test['pred_treatment'] = model_treatment.predict_proba(X_test)[:, 1]\n",
        "test['pred_control'] = model_control.predict_proba(X_test)[:, 1]\n",
        "test['uplift'] = test['pred_treatment'] - test['pred_control']\n",
        "\n",
        "# Evaluate uplift model performance\n",
        "def uplift_at_percentile(df, percentile=0.1):\n",
        "    top_n = int(len(df) * percentile)\n",
        "    top_customers = df.nlargest(top_n, 'uplift')\n",
        "    return top_customers['response'].mean()\n",
        "\n",
        "uplift_top_10 = uplift_at_percentile(test, 0.1)\n",
        "uplift_top_20 = uplift_at_percentile(test, 0.2)\n",
        "\n",
        "print(f\"Uplift in top 10%: {uplift_top_10:.4f}\")\n",
        "print(f\"Uplift in top 20%: {uplift_top_20:.4f}\")\n",
        "\n",
        "# Plot Qini Curve\n",
        "import matplotlib.pyplot as plt\n",
        "\n",
        "test_sorted = test.sort_values(by='uplift', ascending=False)\n",
        "qini_curve = np.cumsum(test_sorted['response']) / np.arange(1, len(test_sorted) + 1)\n",
        "\n",
        "plt.plot(qini_curve, label=\"Uplift Model\")\n",
        "plt.axhline(y=test['response'].mean(), color='r', linestyle='--', label=\"Random Targeting\")\n",
        "plt.xlabel(\"Customers Sorted by Uplift Score\")\n",
        "plt.ylabel(\"Cumulative Response Rate\")\n",
        "plt.title(\"Qini Curve\")\n",
        "plt.legend()\n",
        "plt.show()\n"
      ],
      "metadata": {
        "id": "GKa5taUGMmx3"
      },
      "execution_count": null,
      "outputs": []
    }
  ]
}